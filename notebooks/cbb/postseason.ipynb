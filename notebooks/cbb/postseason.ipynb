{
 "cells": [
  {
   "cell_type": "code",
   "execution_count": 1,
   "id": "9db4744c-2e8b-4793-bb10-2b7475244332",
   "metadata": {},
   "outputs": [
    {
     "data": {
      "text/plain": [
       "['C:\\\\Users\\\\JLpyt\\\\AppData\\\\Local\\\\Programs\\\\Python\\\\Python311\\\\python311.zip',\n",
       " 'C:\\\\Users\\\\JLpyt\\\\AppData\\\\Local\\\\Programs\\\\Python\\\\Python311\\\\DLLs',\n",
       " 'C:\\\\Users\\\\JLpyt\\\\AppData\\\\Local\\\\Programs\\\\Python\\\\Python311\\\\Lib',\n",
       " 'C:\\\\Users\\\\JLpyt\\\\AppData\\\\Local\\\\Programs\\\\Python\\\\Python311',\n",
       " 'C:\\\\Users\\\\JLpyt\\\\.virtualenvs\\\\sports-reference-luEwXDjZ',\n",
       " '',\n",
       " 'C:\\\\Users\\\\JLpyt\\\\.virtualenvs\\\\sports-reference-luEwXDjZ\\\\Lib\\\\site-packages',\n",
       " 'C:\\\\Users\\\\JLpyt\\\\.virtualenvs\\\\sports-reference-luEwXDjZ\\\\Lib\\\\site-packages\\\\win32',\n",
       " 'C:\\\\Users\\\\JLpyt\\\\.virtualenvs\\\\sports-reference-luEwXDjZ\\\\Lib\\\\site-packages\\\\win32\\\\lib',\n",
       " 'C:\\\\Users\\\\JLpyt\\\\.virtualenvs\\\\sports-reference-luEwXDjZ\\\\Lib\\\\site-packages\\\\Pythonwin',\n",
       " 'C:\\\\Users\\\\JLpyt\\\\OneDrive\\\\Desktop\\\\sports-reference']"
      ]
     },
     "execution_count": 1,
     "metadata": {},
     "output_type": "execute_result"
    }
   ],
   "source": [
    "import pathlib\n",
    "import sys\n",
    "\n",
    "sys.path.append(pathlib.Path(\"..\", \"..\").resolve().__str__())\n",
    "sys.path"
   ]
  },
  {
   "cell_type": "code",
   "execution_count": 2,
   "id": "48277837-7cd6-42c6-a8cb-315674ffebc6",
   "metadata": {},
   "outputs": [],
   "source": [
    "from sports_reference.cbb import postseason"
   ]
  },
  {
   "cell_type": "code",
   "execution_count": null,
   "id": "9323c5f6-18c0-4e83-a6a1-a6c8a6a35cb6",
   "metadata": {},
   "outputs": [],
   "source": []
  }
 ],
 "metadata": {
  "kernelspec": {
   "display_name": "Python 3 (ipykernel)",
   "language": "python",
   "name": "python3"
  },
  "language_info": {
   "codemirror_mode": {
    "name": "ipython",
    "version": 3
   },
   "file_extension": ".py",
   "mimetype": "text/x-python",
   "name": "python",
   "nbconvert_exporter": "python",
   "pygments_lexer": "ipython3",
   "version": "3.11.0"
  }
 },
 "nbformat": 4,
 "nbformat_minor": 5
}
