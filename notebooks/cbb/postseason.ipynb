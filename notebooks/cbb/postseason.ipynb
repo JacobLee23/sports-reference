{
 "cells": [
  {
   "cell_type": "code",
   "execution_count": 1,
   "id": "9db4744c-2e8b-4793-bb10-2b7475244332",
   "metadata": {},
   "outputs": [
    {
     "data": {
      "text/plain": [
       "['C:\\\\Users\\\\JLpyt\\\\AppData\\\\Local\\\\Programs\\\\Python\\\\Python311\\\\python311.zip',\n",
       " 'C:\\\\Users\\\\JLpyt\\\\AppData\\\\Local\\\\Programs\\\\Python\\\\Python311\\\\DLLs',\n",
       " 'C:\\\\Users\\\\JLpyt\\\\AppData\\\\Local\\\\Programs\\\\Python\\\\Python311\\\\Lib',\n",
       " 'C:\\\\Users\\\\JLpyt\\\\AppData\\\\Local\\\\Programs\\\\Python\\\\Python311',\n",
       " 'C:\\\\Users\\\\JLpyt\\\\.virtualenvs\\\\sports-reference-luEwXDjZ',\n",
       " '',\n",
       " 'C:\\\\Users\\\\JLpyt\\\\.virtualenvs\\\\sports-reference-luEwXDjZ\\\\Lib\\\\site-packages',\n",
       " 'C:\\\\Users\\\\JLpyt\\\\.virtualenvs\\\\sports-reference-luEwXDjZ\\\\Lib\\\\site-packages\\\\win32',\n",
       " 'C:\\\\Users\\\\JLpyt\\\\.virtualenvs\\\\sports-reference-luEwXDjZ\\\\Lib\\\\site-packages\\\\win32\\\\lib',\n",
       " 'C:\\\\Users\\\\JLpyt\\\\.virtualenvs\\\\sports-reference-luEwXDjZ\\\\Lib\\\\site-packages\\\\Pythonwin',\n",
       " 'C:\\\\Users\\\\JLpyt\\\\OneDrive\\\\Desktop\\\\sports-reference']"
      ]
     },
     "execution_count": 1,
     "metadata": {},
     "output_type": "execute_result"
    }
   ],
   "source": [
    "import pathlib\n",
    "import sys\n",
    "\n",
    "sys.path.append(pathlib.Path(\"..\", \"..\").resolve().__str__())\n",
    "sys.path"
   ]
  },
  {
   "cell_type": "markdown",
   "id": "533c3751-c9b6-4f4b-a377-e65dab404e9c",
   "metadata": {},
   "source": [
    "# `cbb.postseason`"
   ]
  },
  {
   "cell_type": "code",
   "execution_count": 2,
   "id": "48277837-7cd6-42c6-a8cb-315674ffebc6",
   "metadata": {},
   "outputs": [],
   "source": [
    "from sports_reference.cbb import postseason"
   ]
  },
  {
   "cell_type": "markdown",
   "id": "41237b08-c2a3-4cf2-b82e-bd9cf15612c2",
   "metadata": {},
   "source": [
    "## `cbb.postseason._tournament`"
   ]
  },
  {
   "cell_type": "markdown",
   "id": "b104e21e-1901-4edf-b30c-14487537089e",
   "metadata": {},
   "source": [
    "### `_tournament.Tournament`"
   ]
  },
  {
   "cell_type": "code",
   "execution_count": 3,
   "id": "9323c5f6-18c0-4e83-a6a1-a6c8a6a35cb6",
   "metadata": {},
   "outputs": [
    {
     "data": {
      "text/plain": [
       "MensTournament(year=2024, regions=('east', 'midwest', 'south', 'west'))"
      ]
     },
     "execution_count": 3,
     "metadata": {},
     "output_type": "execute_result"
    }
   ],
   "source": [
    "tournament = postseason.MensTournament(2024)\n",
    "tournament"
   ]
  },
  {
   "cell_type": "code",
   "execution_count": 4,
   "id": "9d426a7c-a6c6-47a7-8200-50bc3d9e407a",
   "metadata": {},
   "outputs": [
    {
     "data": {
      "text/plain": [
       "'https://www.sports-reference.com/cbb/postseason/men/2024-ncaa.html'"
      ]
     },
     "execution_count": 4,
     "metadata": {},
     "output_type": "execute_result"
    }
   ],
   "source": [
    "tournament.address"
   ]
  },
  {
   "cell_type": "code",
   "execution_count": 5,
   "id": "e1e4a55a-37d8-4876-8afb-70c80e464914",
   "metadata": {},
   "outputs": [
    {
     "data": {
      "text/plain": [
       "{'east': Bracket(region=east, nrounds=4),\n",
       " 'midwest': Bracket(region=midwest, nrounds=4),\n",
       " 'south': Bracket(region=south, nrounds=4),\n",
       " 'west': Bracket(region=west, nrounds=4)}"
      ]
     },
     "execution_count": 5,
     "metadata": {},
     "output_type": "execute_result"
    }
   ],
   "source": [
    "tournament.brackets"
   ]
  },
  {
   "cell_type": "code",
   "execution_count": 6,
   "id": "e83cd266-74f6-46b9-b5ff-520d582af24e",
   "metadata": {},
   "outputs": [
    {
     "data": {
      "text/html": [
       "<div>\n",
       "<style scoped>\n",
       "    .dataframe tbody tr th:only-of-type {\n",
       "        vertical-align: middle;\n",
       "    }\n",
       "\n",
       "    .dataframe tbody tr th {\n",
       "        vertical-align: top;\n",
       "    }\n",
       "\n",
       "    .dataframe thead th {\n",
       "        text-align: right;\n",
       "    }\n",
       "</style>\n",
       "<table border=\"1\" class=\"dataframe\">\n",
       "  <thead>\n",
       "    <tr style=\"text-align: right;\">\n",
       "      <th></th>\n",
       "      <th>year</th>\n",
       "      <th>region</th>\n",
       "      <th>nround</th>\n",
       "      <th>game</th>\n",
       "      <th>seed</th>\n",
       "      <th>name</th>\n",
       "      <th>points</th>\n",
       "      <th>winner</th>\n",
       "    </tr>\n",
       "  </thead>\n",
       "  <tbody>\n",
       "    <tr>\n",
       "      <th>0</th>\n",
       "      <td>2024</td>\n",
       "      <td>east</td>\n",
       "      <td>1</td>\n",
       "      <td>0</td>\n",
       "      <td>1</td>\n",
       "      <td>UConn</td>\n",
       "      <td>91</td>\n",
       "      <td>True</td>\n",
       "    </tr>\n",
       "    <tr>\n",
       "      <th>1</th>\n",
       "      <td>2024</td>\n",
       "      <td>east</td>\n",
       "      <td>1</td>\n",
       "      <td>0</td>\n",
       "      <td>16</td>\n",
       "      <td>Stetson</td>\n",
       "      <td>52</td>\n",
       "      <td>False</td>\n",
       "    </tr>\n",
       "    <tr>\n",
       "      <th>2</th>\n",
       "      <td>2024</td>\n",
       "      <td>east</td>\n",
       "      <td>1</td>\n",
       "      <td>1</td>\n",
       "      <td>8</td>\n",
       "      <td>Florida Atlantic</td>\n",
       "      <td>65</td>\n",
       "      <td>False</td>\n",
       "    </tr>\n",
       "    <tr>\n",
       "      <th>3</th>\n",
       "      <td>2024</td>\n",
       "      <td>east</td>\n",
       "      <td>1</td>\n",
       "      <td>1</td>\n",
       "      <td>9</td>\n",
       "      <td>Northwestern</td>\n",
       "      <td>77</td>\n",
       "      <td>True</td>\n",
       "    </tr>\n",
       "    <tr>\n",
       "      <th>4</th>\n",
       "      <td>2024</td>\n",
       "      <td>east</td>\n",
       "      <td>1</td>\n",
       "      <td>2</td>\n",
       "      <td>5</td>\n",
       "      <td>San Diego State</td>\n",
       "      <td>69</td>\n",
       "      <td>True</td>\n",
       "    </tr>\n",
       "    <tr>\n",
       "      <th>...</th>\n",
       "      <td>...</td>\n",
       "      <td>...</td>\n",
       "      <td>...</td>\n",
       "      <td>...</td>\n",
       "      <td>...</td>\n",
       "      <td>...</td>\n",
       "      <td>...</td>\n",
       "      <td>...</td>\n",
       "    </tr>\n",
       "    <tr>\n",
       "      <th>115</th>\n",
       "      <td>2024</td>\n",
       "      <td>west</td>\n",
       "      <td>3</td>\n",
       "      <td>0</td>\n",
       "      <td>4</td>\n",
       "      <td>Alabama</td>\n",
       "      <td>None</td>\n",
       "      <td>False</td>\n",
       "    </tr>\n",
       "    <tr>\n",
       "      <th>116</th>\n",
       "      <td>2024</td>\n",
       "      <td>west</td>\n",
       "      <td>3</td>\n",
       "      <td>1</td>\n",
       "      <td>6</td>\n",
       "      <td>Clemson</td>\n",
       "      <td>None</td>\n",
       "      <td>False</td>\n",
       "    </tr>\n",
       "    <tr>\n",
       "      <th>117</th>\n",
       "      <td>2024</td>\n",
       "      <td>west</td>\n",
       "      <td>3</td>\n",
       "      <td>1</td>\n",
       "      <td>2</td>\n",
       "      <td>Arizona</td>\n",
       "      <td>None</td>\n",
       "      <td>False</td>\n",
       "    </tr>\n",
       "    <tr>\n",
       "      <th>118</th>\n",
       "      <td>2024</td>\n",
       "      <td>west</td>\n",
       "      <td>4</td>\n",
       "      <td>0</td>\n",
       "      <td>None</td>\n",
       "      <td>None</td>\n",
       "      <td>None</td>\n",
       "      <td>None</td>\n",
       "    </tr>\n",
       "    <tr>\n",
       "      <th>119</th>\n",
       "      <td>2024</td>\n",
       "      <td>west</td>\n",
       "      <td>4</td>\n",
       "      <td>0</td>\n",
       "      <td>None</td>\n",
       "      <td>None</td>\n",
       "      <td>None</td>\n",
       "      <td>None</td>\n",
       "    </tr>\n",
       "  </tbody>\n",
       "</table>\n",
       "<p>120 rows × 8 columns</p>\n",
       "</div>"
      ],
      "text/plain": [
       "     year region  nround  game  seed              name points winner\n",
       "0    2024   east       1     0     1             UConn     91   True\n",
       "1    2024   east       1     0    16           Stetson     52  False\n",
       "2    2024   east       1     1     8  Florida Atlantic     65  False\n",
       "3    2024   east       1     1     9      Northwestern     77   True\n",
       "4    2024   east       1     2     5   San Diego State     69   True\n",
       "..    ...    ...     ...   ...   ...               ...    ...    ...\n",
       "115  2024   west       3     0     4           Alabama   None  False\n",
       "116  2024   west       3     1     6           Clemson   None  False\n",
       "117  2024   west       3     1     2           Arizona   None  False\n",
       "118  2024   west       4     0  None              None   None   None\n",
       "119  2024   west       4     0  None              None   None   None\n",
       "\n",
       "[120 rows x 8 columns]"
      ]
     },
     "execution_count": 6,
     "metadata": {},
     "output_type": "execute_result"
    }
   ],
   "source": [
    "tournament.dataframe()"
   ]
  },
  {
   "cell_type": "markdown",
   "id": "dbf5fd09-8f9a-42a3-b886-14e6f6648a55",
   "metadata": {},
   "source": [
    "### `_tournament.Bracket`"
   ]
  },
  {
   "cell_type": "code",
   "execution_count": 7,
   "id": "e0b2bd69-ca7d-472c-b028-aa7feb81a89b",
   "metadata": {},
   "outputs": [
    {
     "data": {
      "text/plain": [
       "Bracket(region=east, nrounds=4)"
      ]
     },
     "execution_count": 7,
     "metadata": {},
     "output_type": "execute_result"
    }
   ],
   "source": [
    "bracket = tournament.east\n",
    "bracket"
   ]
  },
  {
   "cell_type": "code",
   "execution_count": 8,
   "id": "2a0c6793-df66-4f2e-a8f4-a96d887bbeae",
   "metadata": {},
   "outputs": [
    {
     "data": {
      "text/plain": [
       "{1: Round(nround=1, ngames=8),\n",
       " 2: Round(nround=2, ngames=4),\n",
       " 3: Round(nround=3, ngames=2),\n",
       " 4: Round(nround=4, ngames=1)}"
      ]
     },
     "execution_count": 8,
     "metadata": {},
     "output_type": "execute_result"
    }
   ],
   "source": [
    "bracket.rounds"
   ]
  },
  {
   "cell_type": "code",
   "execution_count": 9,
   "id": "135b81eb-7128-4a3e-b823-349bcd506bbc",
   "metadata": {},
   "outputs": [
    {
     "data": {
      "text/plain": [
       "{1: [Game(teams=(Team(seed=1, name=UConn, points=91), Team(seed=16, name=Stetson, points=52)), winner=Team(seed=1, name=UConn, points=91)),\n",
       "  Game(teams=(Team(seed=8, name=Florida Atlantic, points=65), Team(seed=9, name=Northwestern, points=77)), winner=Team(seed=9, name=Northwestern, points=77)),\n",
       "  Game(teams=(Team(seed=5, name=San Diego State, points=69), Team(seed=12, name=UAB, points=65)), winner=Team(seed=5, name=San Diego State, points=69)),\n",
       "  Game(teams=(Team(seed=4, name=Auburn, points=76), Team(seed=13, name=Yale, points=78)), winner=Team(seed=13, name=Yale, points=78)),\n",
       "  Game(teams=(Team(seed=6, name=BYU, points=67), Team(seed=11, name=Duquesne, points=71)), winner=Team(seed=11, name=Duquesne, points=71)),\n",
       "  Game(teams=(Team(seed=3, name=Illinois, points=85), Team(seed=14, name=Morehead State, points=69)), winner=Team(seed=3, name=Illinois, points=85)),\n",
       "  Game(teams=(Team(seed=7, name=Washington State, points=66), Team(seed=10, name=Drake, points=61)), winner=Team(seed=7, name=Washington State, points=66)),\n",
       "  Game(teams=(Team(seed=2, name=Iowa State, points=82), Team(seed=15, name=South Dakota State, points=65)), winner=Team(seed=2, name=Iowa State, points=82))],\n",
       " 2: [Game(teams=(Team(seed=1, name=UConn, points=75), Team(seed=9, name=Northwestern, points=58)), winner=Team(seed=1, name=UConn, points=75)),\n",
       "  Game(teams=(Team(seed=5, name=San Diego State, points=85), Team(seed=13, name=Yale, points=57)), winner=Team(seed=5, name=San Diego State, points=85)),\n",
       "  Game(teams=(Team(seed=11, name=Duquesne, points=63), Team(seed=3, name=Illinois, points=89)), winner=Team(seed=3, name=Illinois, points=89)),\n",
       "  Game(teams=(Team(seed=7, name=Washington State, points=56), Team(seed=2, name=Iowa State, points=67)), winner=Team(seed=2, name=Iowa State, points=67))],\n",
       " 3: [Game(teams=(Team(seed=1, name=UConn, points=None), Team(seed=5, name=San Diego State, points=None)), winner=None),\n",
       "  Game(teams=(Team(seed=3, name=Illinois, points=None), Team(seed=2, name=Iowa State, points=None)), winner=None)],\n",
       " 4: [Game(teams=(None, None), winner=None)]}"
      ]
     },
     "execution_count": 9,
     "metadata": {},
     "output_type": "execute_result"
    }
   ],
   "source": [
    "bracket.games()"
   ]
  },
  {
   "cell_type": "code",
   "execution_count": 10,
   "id": "06cc5cf3-0030-44fd-a7f8-63ed44835b37",
   "metadata": {},
   "outputs": [
    {
     "data": {
      "text/plain": [
       "{1: [Team(seed=1, name=UConn, points=91),\n",
       "  Team(seed=16, name=Stetson, points=52),\n",
       "  Team(seed=8, name=Florida Atlantic, points=65),\n",
       "  Team(seed=9, name=Northwestern, points=77),\n",
       "  Team(seed=5, name=San Diego State, points=69),\n",
       "  Team(seed=12, name=UAB, points=65),\n",
       "  Team(seed=4, name=Auburn, points=76),\n",
       "  Team(seed=13, name=Yale, points=78),\n",
       "  Team(seed=6, name=BYU, points=67),\n",
       "  Team(seed=11, name=Duquesne, points=71),\n",
       "  Team(seed=3, name=Illinois, points=85),\n",
       "  Team(seed=14, name=Morehead State, points=69),\n",
       "  Team(seed=7, name=Washington State, points=66),\n",
       "  Team(seed=10, name=Drake, points=61),\n",
       "  Team(seed=2, name=Iowa State, points=82),\n",
       "  Team(seed=15, name=South Dakota State, points=65)],\n",
       " 2: [Team(seed=1, name=UConn, points=75),\n",
       "  Team(seed=9, name=Northwestern, points=58),\n",
       "  Team(seed=5, name=San Diego State, points=85),\n",
       "  Team(seed=13, name=Yale, points=57),\n",
       "  Team(seed=11, name=Duquesne, points=63),\n",
       "  Team(seed=3, name=Illinois, points=89),\n",
       "  Team(seed=7, name=Washington State, points=56),\n",
       "  Team(seed=2, name=Iowa State, points=67)],\n",
       " 3: [Team(seed=1, name=UConn, points=None),\n",
       "  Team(seed=5, name=San Diego State, points=None),\n",
       "  Team(seed=3, name=Illinois, points=None),\n",
       "  Team(seed=2, name=Iowa State, points=None)],\n",
       " 4: [None, None]}"
      ]
     },
     "execution_count": 10,
     "metadata": {},
     "output_type": "execute_result"
    }
   ],
   "source": [
    "bracket.teams()"
   ]
  },
  {
   "cell_type": "code",
   "execution_count": 11,
   "id": "573a93fb-4adb-43c7-ab78-3d5863893d7c",
   "metadata": {},
   "outputs": [
    {
     "data": {
      "text/html": [
       "<div>\n",
       "<style scoped>\n",
       "    .dataframe tbody tr th:only-of-type {\n",
       "        vertical-align: middle;\n",
       "    }\n",
       "\n",
       "    .dataframe tbody tr th {\n",
       "        vertical-align: top;\n",
       "    }\n",
       "\n",
       "    .dataframe thead th {\n",
       "        text-align: right;\n",
       "    }\n",
       "</style>\n",
       "<table border=\"1\" class=\"dataframe\">\n",
       "  <thead>\n",
       "    <tr style=\"text-align: right;\">\n",
       "      <th></th>\n",
       "      <th>region</th>\n",
       "      <th>nround</th>\n",
       "      <th>game</th>\n",
       "      <th>seed</th>\n",
       "      <th>name</th>\n",
       "      <th>points</th>\n",
       "      <th>winner</th>\n",
       "    </tr>\n",
       "  </thead>\n",
       "  <tbody>\n",
       "    <tr>\n",
       "      <th>0</th>\n",
       "      <td>east</td>\n",
       "      <td>1</td>\n",
       "      <td>0</td>\n",
       "      <td>1</td>\n",
       "      <td>UConn</td>\n",
       "      <td>91</td>\n",
       "      <td>True</td>\n",
       "    </tr>\n",
       "    <tr>\n",
       "      <th>1</th>\n",
       "      <td>east</td>\n",
       "      <td>1</td>\n",
       "      <td>0</td>\n",
       "      <td>16</td>\n",
       "      <td>Stetson</td>\n",
       "      <td>52</td>\n",
       "      <td>False</td>\n",
       "    </tr>\n",
       "    <tr>\n",
       "      <th>2</th>\n",
       "      <td>east</td>\n",
       "      <td>1</td>\n",
       "      <td>1</td>\n",
       "      <td>8</td>\n",
       "      <td>Florida Atlantic</td>\n",
       "      <td>65</td>\n",
       "      <td>False</td>\n",
       "    </tr>\n",
       "    <tr>\n",
       "      <th>3</th>\n",
       "      <td>east</td>\n",
       "      <td>1</td>\n",
       "      <td>1</td>\n",
       "      <td>9</td>\n",
       "      <td>Northwestern</td>\n",
       "      <td>77</td>\n",
       "      <td>True</td>\n",
       "    </tr>\n",
       "    <tr>\n",
       "      <th>4</th>\n",
       "      <td>east</td>\n",
       "      <td>1</td>\n",
       "      <td>2</td>\n",
       "      <td>5</td>\n",
       "      <td>San Diego State</td>\n",
       "      <td>69</td>\n",
       "      <td>True</td>\n",
       "    </tr>\n",
       "    <tr>\n",
       "      <th>5</th>\n",
       "      <td>east</td>\n",
       "      <td>1</td>\n",
       "      <td>2</td>\n",
       "      <td>12</td>\n",
       "      <td>UAB</td>\n",
       "      <td>65</td>\n",
       "      <td>False</td>\n",
       "    </tr>\n",
       "    <tr>\n",
       "      <th>6</th>\n",
       "      <td>east</td>\n",
       "      <td>1</td>\n",
       "      <td>3</td>\n",
       "      <td>4</td>\n",
       "      <td>Auburn</td>\n",
       "      <td>76</td>\n",
       "      <td>False</td>\n",
       "    </tr>\n",
       "    <tr>\n",
       "      <th>7</th>\n",
       "      <td>east</td>\n",
       "      <td>1</td>\n",
       "      <td>3</td>\n",
       "      <td>13</td>\n",
       "      <td>Yale</td>\n",
       "      <td>78</td>\n",
       "      <td>True</td>\n",
       "    </tr>\n",
       "    <tr>\n",
       "      <th>8</th>\n",
       "      <td>east</td>\n",
       "      <td>1</td>\n",
       "      <td>4</td>\n",
       "      <td>6</td>\n",
       "      <td>BYU</td>\n",
       "      <td>67</td>\n",
       "      <td>False</td>\n",
       "    </tr>\n",
       "    <tr>\n",
       "      <th>9</th>\n",
       "      <td>east</td>\n",
       "      <td>1</td>\n",
       "      <td>4</td>\n",
       "      <td>11</td>\n",
       "      <td>Duquesne</td>\n",
       "      <td>71</td>\n",
       "      <td>True</td>\n",
       "    </tr>\n",
       "    <tr>\n",
       "      <th>10</th>\n",
       "      <td>east</td>\n",
       "      <td>1</td>\n",
       "      <td>5</td>\n",
       "      <td>3</td>\n",
       "      <td>Illinois</td>\n",
       "      <td>85</td>\n",
       "      <td>True</td>\n",
       "    </tr>\n",
       "    <tr>\n",
       "      <th>11</th>\n",
       "      <td>east</td>\n",
       "      <td>1</td>\n",
       "      <td>5</td>\n",
       "      <td>14</td>\n",
       "      <td>Morehead State</td>\n",
       "      <td>69</td>\n",
       "      <td>False</td>\n",
       "    </tr>\n",
       "    <tr>\n",
       "      <th>12</th>\n",
       "      <td>east</td>\n",
       "      <td>1</td>\n",
       "      <td>6</td>\n",
       "      <td>7</td>\n",
       "      <td>Washington State</td>\n",
       "      <td>66</td>\n",
       "      <td>True</td>\n",
       "    </tr>\n",
       "    <tr>\n",
       "      <th>13</th>\n",
       "      <td>east</td>\n",
       "      <td>1</td>\n",
       "      <td>6</td>\n",
       "      <td>10</td>\n",
       "      <td>Drake</td>\n",
       "      <td>61</td>\n",
       "      <td>False</td>\n",
       "    </tr>\n",
       "    <tr>\n",
       "      <th>14</th>\n",
       "      <td>east</td>\n",
       "      <td>1</td>\n",
       "      <td>7</td>\n",
       "      <td>2</td>\n",
       "      <td>Iowa State</td>\n",
       "      <td>82</td>\n",
       "      <td>True</td>\n",
       "    </tr>\n",
       "    <tr>\n",
       "      <th>15</th>\n",
       "      <td>east</td>\n",
       "      <td>1</td>\n",
       "      <td>7</td>\n",
       "      <td>15</td>\n",
       "      <td>South Dakota State</td>\n",
       "      <td>65</td>\n",
       "      <td>False</td>\n",
       "    </tr>\n",
       "    <tr>\n",
       "      <th>16</th>\n",
       "      <td>east</td>\n",
       "      <td>2</td>\n",
       "      <td>0</td>\n",
       "      <td>1</td>\n",
       "      <td>UConn</td>\n",
       "      <td>75</td>\n",
       "      <td>True</td>\n",
       "    </tr>\n",
       "    <tr>\n",
       "      <th>17</th>\n",
       "      <td>east</td>\n",
       "      <td>2</td>\n",
       "      <td>0</td>\n",
       "      <td>9</td>\n",
       "      <td>Northwestern</td>\n",
       "      <td>58</td>\n",
       "      <td>False</td>\n",
       "    </tr>\n",
       "    <tr>\n",
       "      <th>18</th>\n",
       "      <td>east</td>\n",
       "      <td>2</td>\n",
       "      <td>1</td>\n",
       "      <td>5</td>\n",
       "      <td>San Diego State</td>\n",
       "      <td>85</td>\n",
       "      <td>True</td>\n",
       "    </tr>\n",
       "    <tr>\n",
       "      <th>19</th>\n",
       "      <td>east</td>\n",
       "      <td>2</td>\n",
       "      <td>1</td>\n",
       "      <td>13</td>\n",
       "      <td>Yale</td>\n",
       "      <td>57</td>\n",
       "      <td>False</td>\n",
       "    </tr>\n",
       "    <tr>\n",
       "      <th>20</th>\n",
       "      <td>east</td>\n",
       "      <td>2</td>\n",
       "      <td>2</td>\n",
       "      <td>11</td>\n",
       "      <td>Duquesne</td>\n",
       "      <td>63</td>\n",
       "      <td>False</td>\n",
       "    </tr>\n",
       "    <tr>\n",
       "      <th>21</th>\n",
       "      <td>east</td>\n",
       "      <td>2</td>\n",
       "      <td>2</td>\n",
       "      <td>3</td>\n",
       "      <td>Illinois</td>\n",
       "      <td>89</td>\n",
       "      <td>True</td>\n",
       "    </tr>\n",
       "    <tr>\n",
       "      <th>22</th>\n",
       "      <td>east</td>\n",
       "      <td>2</td>\n",
       "      <td>3</td>\n",
       "      <td>7</td>\n",
       "      <td>Washington State</td>\n",
       "      <td>56</td>\n",
       "      <td>False</td>\n",
       "    </tr>\n",
       "    <tr>\n",
       "      <th>23</th>\n",
       "      <td>east</td>\n",
       "      <td>2</td>\n",
       "      <td>3</td>\n",
       "      <td>2</td>\n",
       "      <td>Iowa State</td>\n",
       "      <td>67</td>\n",
       "      <td>True</td>\n",
       "    </tr>\n",
       "    <tr>\n",
       "      <th>24</th>\n",
       "      <td>east</td>\n",
       "      <td>3</td>\n",
       "      <td>0</td>\n",
       "      <td>1</td>\n",
       "      <td>UConn</td>\n",
       "      <td>None</td>\n",
       "      <td>False</td>\n",
       "    </tr>\n",
       "    <tr>\n",
       "      <th>25</th>\n",
       "      <td>east</td>\n",
       "      <td>3</td>\n",
       "      <td>0</td>\n",
       "      <td>5</td>\n",
       "      <td>San Diego State</td>\n",
       "      <td>None</td>\n",
       "      <td>False</td>\n",
       "    </tr>\n",
       "    <tr>\n",
       "      <th>26</th>\n",
       "      <td>east</td>\n",
       "      <td>3</td>\n",
       "      <td>1</td>\n",
       "      <td>3</td>\n",
       "      <td>Illinois</td>\n",
       "      <td>None</td>\n",
       "      <td>False</td>\n",
       "    </tr>\n",
       "    <tr>\n",
       "      <th>27</th>\n",
       "      <td>east</td>\n",
       "      <td>3</td>\n",
       "      <td>1</td>\n",
       "      <td>2</td>\n",
       "      <td>Iowa State</td>\n",
       "      <td>None</td>\n",
       "      <td>False</td>\n",
       "    </tr>\n",
       "    <tr>\n",
       "      <th>28</th>\n",
       "      <td>east</td>\n",
       "      <td>4</td>\n",
       "      <td>0</td>\n",
       "      <td>None</td>\n",
       "      <td>None</td>\n",
       "      <td>None</td>\n",
       "      <td>None</td>\n",
       "    </tr>\n",
       "    <tr>\n",
       "      <th>29</th>\n",
       "      <td>east</td>\n",
       "      <td>4</td>\n",
       "      <td>0</td>\n",
       "      <td>None</td>\n",
       "      <td>None</td>\n",
       "      <td>None</td>\n",
       "      <td>None</td>\n",
       "    </tr>\n",
       "  </tbody>\n",
       "</table>\n",
       "</div>"
      ],
      "text/plain": [
       "   region  nround  game  seed                name points winner\n",
       "0    east       1     0     1               UConn     91   True\n",
       "1    east       1     0    16             Stetson     52  False\n",
       "2    east       1     1     8    Florida Atlantic     65  False\n",
       "3    east       1     1     9        Northwestern     77   True\n",
       "4    east       1     2     5     San Diego State     69   True\n",
       "5    east       1     2    12                 UAB     65  False\n",
       "6    east       1     3     4              Auburn     76  False\n",
       "7    east       1     3    13                Yale     78   True\n",
       "8    east       1     4     6                 BYU     67  False\n",
       "9    east       1     4    11            Duquesne     71   True\n",
       "10   east       1     5     3            Illinois     85   True\n",
       "11   east       1     5    14      Morehead State     69  False\n",
       "12   east       1     6     7    Washington State     66   True\n",
       "13   east       1     6    10               Drake     61  False\n",
       "14   east       1     7     2          Iowa State     82   True\n",
       "15   east       1     7    15  South Dakota State     65  False\n",
       "16   east       2     0     1               UConn     75   True\n",
       "17   east       2     0     9        Northwestern     58  False\n",
       "18   east       2     1     5     San Diego State     85   True\n",
       "19   east       2     1    13                Yale     57  False\n",
       "20   east       2     2    11            Duquesne     63  False\n",
       "21   east       2     2     3            Illinois     89   True\n",
       "22   east       2     3     7    Washington State     56  False\n",
       "23   east       2     3     2          Iowa State     67   True\n",
       "24   east       3     0     1               UConn   None  False\n",
       "25   east       3     0     5     San Diego State   None  False\n",
       "26   east       3     1     3            Illinois   None  False\n",
       "27   east       3     1     2          Iowa State   None  False\n",
       "28   east       4     0  None                None   None   None\n",
       "29   east       4     0  None                None   None   None"
      ]
     },
     "execution_count": 11,
     "metadata": {},
     "output_type": "execute_result"
    }
   ],
   "source": [
    "bracket.dataframe()"
   ]
  },
  {
   "cell_type": "markdown",
   "id": "d00283d8-c01e-4883-a4b2-9b580b1f9384",
   "metadata": {},
   "source": [
    "### `_tournament.Round`"
   ]
  },
  {
   "cell_type": "code",
   "execution_count": 12,
   "id": "a90ebb49-7969-4240-a3ac-05d9cbd4fdf4",
   "metadata": {},
   "outputs": [
    {
     "data": {
      "text/plain": [
       "Round(nround=1, ngames=8)"
      ]
     },
     "execution_count": 12,
     "metadata": {},
     "output_type": "execute_result"
    }
   ],
   "source": [
    "round = bracket.rounds.get(1)\n",
    "round"
   ]
  },
  {
   "cell_type": "code",
   "execution_count": 13,
   "id": "e92b78a6-c958-4bed-9c3e-e8eb1eaffd7c",
   "metadata": {},
   "outputs": [
    {
     "data": {
      "text/plain": [
       "[Game(teams=(Team(seed=1, name=UConn, points=91), Team(seed=16, name=Stetson, points=52)), winner=Team(seed=1, name=UConn, points=91)),\n",
       " Game(teams=(Team(seed=8, name=Florida Atlantic, points=65), Team(seed=9, name=Northwestern, points=77)), winner=Team(seed=9, name=Northwestern, points=77)),\n",
       " Game(teams=(Team(seed=5, name=San Diego State, points=69), Team(seed=12, name=UAB, points=65)), winner=Team(seed=5, name=San Diego State, points=69)),\n",
       " Game(teams=(Team(seed=4, name=Auburn, points=76), Team(seed=13, name=Yale, points=78)), winner=Team(seed=13, name=Yale, points=78)),\n",
       " Game(teams=(Team(seed=6, name=BYU, points=67), Team(seed=11, name=Duquesne, points=71)), winner=Team(seed=11, name=Duquesne, points=71)),\n",
       " Game(teams=(Team(seed=3, name=Illinois, points=85), Team(seed=14, name=Morehead State, points=69)), winner=Team(seed=3, name=Illinois, points=85)),\n",
       " Game(teams=(Team(seed=7, name=Washington State, points=66), Team(seed=10, name=Drake, points=61)), winner=Team(seed=7, name=Washington State, points=66)),\n",
       " Game(teams=(Team(seed=2, name=Iowa State, points=82), Team(seed=15, name=South Dakota State, points=65)), winner=Team(seed=2, name=Iowa State, points=82))]"
      ]
     },
     "execution_count": 13,
     "metadata": {},
     "output_type": "execute_result"
    }
   ],
   "source": [
    "round.games"
   ]
  },
  {
   "cell_type": "code",
   "execution_count": 14,
   "id": "41ce7f33-d64a-49e2-9e8e-bdec682cd3ff",
   "metadata": {},
   "outputs": [
    {
     "data": {
      "text/html": [
       "<div>\n",
       "<style scoped>\n",
       "    .dataframe tbody tr th:only-of-type {\n",
       "        vertical-align: middle;\n",
       "    }\n",
       "\n",
       "    .dataframe tbody tr th {\n",
       "        vertical-align: top;\n",
       "    }\n",
       "\n",
       "    .dataframe thead th {\n",
       "        text-align: right;\n",
       "    }\n",
       "</style>\n",
       "<table border=\"1\" class=\"dataframe\">\n",
       "  <thead>\n",
       "    <tr style=\"text-align: right;\">\n",
       "      <th></th>\n",
       "      <th>nround</th>\n",
       "      <th>game</th>\n",
       "      <th>seed</th>\n",
       "      <th>name</th>\n",
       "      <th>points</th>\n",
       "      <th>winner</th>\n",
       "    </tr>\n",
       "  </thead>\n",
       "  <tbody>\n",
       "    <tr>\n",
       "      <th>0</th>\n",
       "      <td>1</td>\n",
       "      <td>0</td>\n",
       "      <td>1</td>\n",
       "      <td>UConn</td>\n",
       "      <td>91</td>\n",
       "      <td>True</td>\n",
       "    </tr>\n",
       "    <tr>\n",
       "      <th>1</th>\n",
       "      <td>1</td>\n",
       "      <td>0</td>\n",
       "      <td>16</td>\n",
       "      <td>Stetson</td>\n",
       "      <td>52</td>\n",
       "      <td>False</td>\n",
       "    </tr>\n",
       "    <tr>\n",
       "      <th>2</th>\n",
       "      <td>1</td>\n",
       "      <td>1</td>\n",
       "      <td>8</td>\n",
       "      <td>Florida Atlantic</td>\n",
       "      <td>65</td>\n",
       "      <td>False</td>\n",
       "    </tr>\n",
       "    <tr>\n",
       "      <th>3</th>\n",
       "      <td>1</td>\n",
       "      <td>1</td>\n",
       "      <td>9</td>\n",
       "      <td>Northwestern</td>\n",
       "      <td>77</td>\n",
       "      <td>True</td>\n",
       "    </tr>\n",
       "    <tr>\n",
       "      <th>4</th>\n",
       "      <td>1</td>\n",
       "      <td>2</td>\n",
       "      <td>5</td>\n",
       "      <td>San Diego State</td>\n",
       "      <td>69</td>\n",
       "      <td>True</td>\n",
       "    </tr>\n",
       "    <tr>\n",
       "      <th>5</th>\n",
       "      <td>1</td>\n",
       "      <td>2</td>\n",
       "      <td>12</td>\n",
       "      <td>UAB</td>\n",
       "      <td>65</td>\n",
       "      <td>False</td>\n",
       "    </tr>\n",
       "    <tr>\n",
       "      <th>6</th>\n",
       "      <td>1</td>\n",
       "      <td>3</td>\n",
       "      <td>4</td>\n",
       "      <td>Auburn</td>\n",
       "      <td>76</td>\n",
       "      <td>False</td>\n",
       "    </tr>\n",
       "    <tr>\n",
       "      <th>7</th>\n",
       "      <td>1</td>\n",
       "      <td>3</td>\n",
       "      <td>13</td>\n",
       "      <td>Yale</td>\n",
       "      <td>78</td>\n",
       "      <td>True</td>\n",
       "    </tr>\n",
       "    <tr>\n",
       "      <th>8</th>\n",
       "      <td>1</td>\n",
       "      <td>4</td>\n",
       "      <td>6</td>\n",
       "      <td>BYU</td>\n",
       "      <td>67</td>\n",
       "      <td>False</td>\n",
       "    </tr>\n",
       "    <tr>\n",
       "      <th>9</th>\n",
       "      <td>1</td>\n",
       "      <td>4</td>\n",
       "      <td>11</td>\n",
       "      <td>Duquesne</td>\n",
       "      <td>71</td>\n",
       "      <td>True</td>\n",
       "    </tr>\n",
       "    <tr>\n",
       "      <th>10</th>\n",
       "      <td>1</td>\n",
       "      <td>5</td>\n",
       "      <td>3</td>\n",
       "      <td>Illinois</td>\n",
       "      <td>85</td>\n",
       "      <td>True</td>\n",
       "    </tr>\n",
       "    <tr>\n",
       "      <th>11</th>\n",
       "      <td>1</td>\n",
       "      <td>5</td>\n",
       "      <td>14</td>\n",
       "      <td>Morehead State</td>\n",
       "      <td>69</td>\n",
       "      <td>False</td>\n",
       "    </tr>\n",
       "    <tr>\n",
       "      <th>12</th>\n",
       "      <td>1</td>\n",
       "      <td>6</td>\n",
       "      <td>7</td>\n",
       "      <td>Washington State</td>\n",
       "      <td>66</td>\n",
       "      <td>True</td>\n",
       "    </tr>\n",
       "    <tr>\n",
       "      <th>13</th>\n",
       "      <td>1</td>\n",
       "      <td>6</td>\n",
       "      <td>10</td>\n",
       "      <td>Drake</td>\n",
       "      <td>61</td>\n",
       "      <td>False</td>\n",
       "    </tr>\n",
       "    <tr>\n",
       "      <th>14</th>\n",
       "      <td>1</td>\n",
       "      <td>7</td>\n",
       "      <td>2</td>\n",
       "      <td>Iowa State</td>\n",
       "      <td>82</td>\n",
       "      <td>True</td>\n",
       "    </tr>\n",
       "    <tr>\n",
       "      <th>15</th>\n",
       "      <td>1</td>\n",
       "      <td>7</td>\n",
       "      <td>15</td>\n",
       "      <td>South Dakota State</td>\n",
       "      <td>65</td>\n",
       "      <td>False</td>\n",
       "    </tr>\n",
       "  </tbody>\n",
       "</table>\n",
       "</div>"
      ],
      "text/plain": [
       "    nround  game  seed                name  points  winner\n",
       "0        1     0     1               UConn      91    True\n",
       "1        1     0    16             Stetson      52   False\n",
       "2        1     1     8    Florida Atlantic      65   False\n",
       "3        1     1     9        Northwestern      77    True\n",
       "4        1     2     5     San Diego State      69    True\n",
       "5        1     2    12                 UAB      65   False\n",
       "6        1     3     4              Auburn      76   False\n",
       "7        1     3    13                Yale      78    True\n",
       "8        1     4     6                 BYU      67   False\n",
       "9        1     4    11            Duquesne      71    True\n",
       "10       1     5     3            Illinois      85    True\n",
       "11       1     5    14      Morehead State      69   False\n",
       "12       1     6     7    Washington State      66    True\n",
       "13       1     6    10               Drake      61   False\n",
       "14       1     7     2          Iowa State      82    True\n",
       "15       1     7    15  South Dakota State      65   False"
      ]
     },
     "execution_count": 14,
     "metadata": {},
     "output_type": "execute_result"
    }
   ],
   "source": [
    "round.dataframe()"
   ]
  },
  {
   "cell_type": "markdown",
   "id": "a2fc261e-84b3-41c0-aa9a-a79d55923eb0",
   "metadata": {},
   "source": [
    "### `_tournament.Game`"
   ]
  },
  {
   "cell_type": "code",
   "execution_count": 15,
   "id": "8e71f98c-1eec-4974-a692-b85883999fe6",
   "metadata": {},
   "outputs": [
    {
     "data": {
      "text/plain": [
       "Game(teams=(Team(seed=1, name=UConn, points=91), Team(seed=16, name=Stetson, points=52)), winner=Team(seed=1, name=UConn, points=91))"
      ]
     },
     "execution_count": 15,
     "metadata": {},
     "output_type": "execute_result"
    }
   ],
   "source": [
    "game = round.games[0]\n",
    "game"
   ]
  },
  {
   "cell_type": "code",
   "execution_count": 16,
   "id": "b9e6ab70-8a3f-4aa6-901e-74bc5d551f1c",
   "metadata": {},
   "outputs": [
    {
     "data": {
      "text/plain": [
       "Team(seed=1, name=UConn, points=91)"
      ]
     },
     "execution_count": 16,
     "metadata": {},
     "output_type": "execute_result"
    }
   ],
   "source": [
    "game.winner"
   ]
  },
  {
   "cell_type": "code",
   "execution_count": 17,
   "id": "2c3c08d6-b146-4ffc-ba35-27497ca6e0f6",
   "metadata": {},
   "outputs": [
    {
     "data": {
      "text/plain": [
       "('Brooklyn', 'NY')"
      ]
     },
     "execution_count": 17,
     "metadata": {},
     "output_type": "execute_result"
    }
   ],
   "source": [
    "game.location"
   ]
  },
  {
   "cell_type": "code",
   "execution_count": 18,
   "id": "0cbeaccd-2b37-46db-aceb-edf5b4aec2cf",
   "metadata": {},
   "outputs": [
    {
     "data": {
      "text/plain": [
       "'/cbb/boxscores/2024-03-22-14-connecticut.html'"
      ]
     },
     "execution_count": 18,
     "metadata": {},
     "output_type": "execute_result"
    }
   ],
   "source": [
    "game.boxscore"
   ]
  },
  {
   "cell_type": "code",
   "execution_count": 19,
   "id": "45d469a1-7147-4329-bc53-13d66d9281d9",
   "metadata": {},
   "outputs": [
    {
     "data": {
      "text/plain": [
       "{Team(seed=1, name=UConn, points=91): 91,\n",
       " Team(seed=16, name=Stetson, points=52): 52}"
      ]
     },
     "execution_count": 19,
     "metadata": {},
     "output_type": "execute_result"
    }
   ],
   "source": [
    "game.score"
   ]
  },
  {
   "cell_type": "code",
   "execution_count": 20,
   "id": "887ae836-1e74-4174-8293-e56c838c7cfc",
   "metadata": {},
   "outputs": [
    {
     "data": {
      "text/html": [
       "<div>\n",
       "<style scoped>\n",
       "    .dataframe tbody tr th:only-of-type {\n",
       "        vertical-align: middle;\n",
       "    }\n",
       "\n",
       "    .dataframe tbody tr th {\n",
       "        vertical-align: top;\n",
       "    }\n",
       "\n",
       "    .dataframe thead th {\n",
       "        text-align: right;\n",
       "    }\n",
       "</style>\n",
       "<table border=\"1\" class=\"dataframe\">\n",
       "  <thead>\n",
       "    <tr style=\"text-align: right;\">\n",
       "      <th></th>\n",
       "      <th>seed</th>\n",
       "      <th>name</th>\n",
       "      <th>points</th>\n",
       "      <th>winner</th>\n",
       "    </tr>\n",
       "  </thead>\n",
       "  <tbody>\n",
       "    <tr>\n",
       "      <th>0</th>\n",
       "      <td>1</td>\n",
       "      <td>UConn</td>\n",
       "      <td>91</td>\n",
       "      <td>True</td>\n",
       "    </tr>\n",
       "    <tr>\n",
       "      <th>1</th>\n",
       "      <td>16</td>\n",
       "      <td>Stetson</td>\n",
       "      <td>52</td>\n",
       "      <td>False</td>\n",
       "    </tr>\n",
       "  </tbody>\n",
       "</table>\n",
       "</div>"
      ],
      "text/plain": [
       "   seed     name  points  winner\n",
       "0     1    UConn      91    True\n",
       "1    16  Stetson      52   False"
      ]
     },
     "execution_count": 20,
     "metadata": {},
     "output_type": "execute_result"
    }
   ],
   "source": [
    "game.dataframe()"
   ]
  },
  {
   "cell_type": "markdown",
   "id": "ab3f0cdc-d693-4de7-a792-a5ca6cfb6f60",
   "metadata": {},
   "source": [
    "### `_tournament.Team`"
   ]
  },
  {
   "cell_type": "code",
   "execution_count": 21,
   "id": "c7109019-7aec-4e25-a374-2f1817de497c",
   "metadata": {},
   "outputs": [
    {
     "data": {
      "text/plain": [
       "Team(seed=1, name=UConn, points=91)"
      ]
     },
     "execution_count": 21,
     "metadata": {},
     "output_type": "execute_result"
    }
   ],
   "source": [
    "team = game.winner\n",
    "team"
   ]
  },
  {
   "cell_type": "code",
   "execution_count": 22,
   "id": "30b3495b-e8ba-407f-a75d-7e6177d94e88",
   "metadata": {},
   "outputs": [
    {
     "data": {
      "text/plain": [
       "'/cbb/schools/connecticut/men/2024.html'"
      ]
     },
     "execution_count": 22,
     "metadata": {},
     "output_type": "execute_result"
    }
   ],
   "source": [
    "team.href"
   ]
  },
  {
   "cell_type": "code",
   "execution_count": 23,
   "id": "87f73c1f-5466-4629-94e7-d80edfc986df",
   "metadata": {},
   "outputs": [
    {
     "data": {
      "text/plain": [
       "'/cbb/boxscores/2024-03-22-14-connecticut.html'"
      ]
     },
     "execution_count": 23,
     "metadata": {},
     "output_type": "execute_result"
    }
   ],
   "source": [
    "team.boxscore"
   ]
  },
  {
   "cell_type": "code",
   "execution_count": 24,
   "id": "e3c56e24-1d70-4981-ac8c-91916ad8151d",
   "metadata": {},
   "outputs": [
    {
     "data": {
      "text/plain": [
       "True"
      ]
     },
     "execution_count": 24,
     "metadata": {},
     "output_type": "execute_result"
    }
   ],
   "source": [
    "team.winner"
   ]
  },
  {
   "cell_type": "code",
   "execution_count": 25,
   "id": "c6ecfdbd-3a5f-4964-82b6-c0cb553f6d86",
   "metadata": {},
   "outputs": [
    {
     "data": {
      "text/plain": [
       "seed          1\n",
       "name      UConn\n",
       "points       91\n",
       "winner     True\n",
       "dtype: object"
      ]
     },
     "execution_count": 25,
     "metadata": {},
     "output_type": "execute_result"
    }
   ],
   "source": [
    "team.series()"
   ]
  },
  {
   "cell_type": "code",
   "execution_count": null,
   "id": "14cbb8a1-34d1-4069-a929-d962ce62d978",
   "metadata": {},
   "outputs": [],
   "source": []
  }
 ],
 "metadata": {
  "kernelspec": {
   "display_name": "Python 3 (ipykernel)",
   "language": "python",
   "name": "python3"
  },
  "language_info": {
   "codemirror_mode": {
    "name": "ipython",
    "version": 3
   },
   "file_extension": ".py",
   "mimetype": "text/x-python",
   "name": "python",
   "nbconvert_exporter": "python",
   "pygments_lexer": "ipython3",
   "version": "3.11.0"
  }
 },
 "nbformat": 4,
 "nbformat_minor": 5
}
